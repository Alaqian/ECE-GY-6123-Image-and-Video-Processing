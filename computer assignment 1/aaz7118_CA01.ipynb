{
 "cells": [
  {
   "cell_type": "markdown",
   "id": "efa654d8-f932-4c3c-8327-5e12c3846234",
   "metadata": {},
   "source": [
    "# Computer Assignment:  Color and Contrast Manipulations\n",
    "## Alaqian Zafar - aaz7118\n",
    "### Problem 1 (Working with Images)\n",
    "#### (a) Load an RGB color image and display the RGB image as well as the R, G, and B channels separately. Describe what you observe in each component."
   ]
  },
  {
   "cell_type": "code",
   "execution_count": null,
   "id": "30c6e1bb",
   "metadata": {},
   "outputs": [],
   "source": [
    "import cv2\n",
    "import matplotlib.pyplot as plt\n",
    "import numpy as np\n",
    "%matplotlib inline\n",
    "\n",
    "\n",
    "# load a color image\n",
    "image = cv2.imread('fruit.jpg')\n",
    "# convert the color image from BGR to RGB \n",
    "image_rgb = cv2.cvtColor(image,cv2.COLOR_BGR2RGB)\n",
    "# define function to display images, shows RGB by default\n",
    "def show_image(image, title, channel='RGB'):\n",
    "    plt.figure()\n",
    "    plt.axis('off')\n",
    "    plt.title(title)\n",
    "    if channel=='RGB':\n",
    "        plt.imshow(image)\n",
    "    elif channel=='gray':\n",
    "        plt.imshow(image,cmap='gray')  \n",
    "    else:\n",
    "        plt.imshow(image[:,:,channel],cmap='gray')    \n",
    "# display colr image as well as the R, G and B channels separately\n",
    "show_image(image_rgb, 'Original Image')\n",
    "show_image(image_rgb, 'Red Channel', 0)\n",
    "show_image(image_rgb, 'Green Channel', 1)\n",
    "show_image(image_rgb, 'Blue Channel', 2)"
   ]
  },
  {
   "cell_type": "markdown",
   "id": "1c034b27",
   "metadata": {},
   "source": [
    "When using the `cv2.imread` function to read an image, the data is stored in a 3-dimensional matrix as a numpy array. This matrix separates the three color channels of the image (red, blue, and green) into individual 2-dimensional matrices, each corresponding to the shape of the original image. \n",
    "\n",
    "By isolating these color channels, it is possible to examine the strength of each one. Representing each 2-dimensional matrix as a grayscale image demonstrates the intensity of the specific color. In the red, green, and blue channel images, the more white a pixel is, the greater the presence of that color component in the pixel.\n",
    "#### (b) Convert the RGB image to the HSV colorspace and display the H, S, and V channels separately. Describe your observations."
   ]
  },
  {
   "cell_type": "code",
   "execution_count": null,
   "id": "3b17682e",
   "metadata": {},
   "outputs": [],
   "source": [
    "# convert the color image from RGB to BGR\n",
    "image_hsv = cv2.cvtColor(image_rgb,cv2.COLOR_RGB2HSV)\n",
    "# display the H, S, and V channels separately as a grayscale image\n",
    "show_image(image_hsv, 'Hue Channel',0)\n",
    "show_image(image_hsv, 'Saturation Channel',1)\n",
    "show_image(image_hsv, 'Value Channel',2)"
   ]
  },
  {
   "cell_type": "markdown",
   "id": "37c19fee",
   "metadata": {},
   "source": [
    "HSV images store the image's data based on its hue, saturation and value components. HSV color model, hue represents the angle of a color on the color wheel, saturation represents the purity of the color, and value represents the brightness of the color. In the first image, the darker the regions are the lower angles of a color on the color wheel while in the next 2 images, the brighter regions represent higher saturation and value channels. The Value image is mostly while indicating a uniform brightness of color in the image.\n",
    "#### (c) Detect blue pixels, defined by having a hue in range [110,130]. Your detected pixels should be in the form of a binary mask. Use this mask to display only the blue pixels of your original image, with the non-blue pixels displayed as black."
   ]
  },
  {
   "cell_type": "code",
   "execution_count": null,
   "id": "a12ad0ee",
   "metadata": {},
   "outputs": [],
   "source": [
    "# extract the blue portion of the image. \n",
    "# Note: I used the range [50,255] for S and V channels but other ranges might also work\n",
    "blue_mask = cv2.inRange(image_hsv,(110,50,50),(130,255,255))\n",
    "image_hsv_blue_extracted = cv2.bitwise_and(image_hsv, image_hsv, mask = blue_mask)\n",
    "# display the blue part of the image \n",
    "show_image(blue_mask,'Blue Mask','gray')"
   ]
  },
  {
   "cell_type": "markdown",
   "id": "d40652e3",
   "metadata": {},
   "source": [
    "### Problem 2 (Contrast Enhancement)\n",
    "#### (a) Load and display a low-contrast grayscale image."
   ]
  },
  {
   "cell_type": "code",
   "execution_count": null,
   "id": "d55c2c5c",
   "metadata": {},
   "outputs": [],
   "source": [
    "# load low-contrast grayscale image\n",
    "image_low_cntrst = cv2.imread('seeds.jpg',0)\n",
    "# display the low-contrast image\n",
    "show_image(image_low_cntrst, 'Low Contrast Image', 'gray')"
   ]
  },
  {
   "cell_type": "markdown",
   "id": "049c3b6b",
   "metadata": {},
   "source": [
    "#### (b) Calculate and plot the image's histogram. Comment on the relation between the image's contrast and its histogram."
   ]
  },
  {
   "cell_type": "code",
   "execution_count": null,
   "id": "8a45a2d3",
   "metadata": {},
   "outputs": [],
   "source": [
    "# calculate the histogram and corresponding bins\n",
    "histogram, bins = np.histogram(image_low_cntrst.flatten(),256,[0,256])\n",
    "# plot the image histogram\n",
    "plt.figure()\n",
    "plt.title('Histogram of the image')\n",
    "plt.hist(image_low_cntrst.ravel(),256,[0,256]);"
   ]
  },
  {
   "cell_type": "markdown",
   "id": "9fcd9a9f",
   "metadata": {},
   "source": [
    "The histogram has most of the pixels lying in a low range of values. That means there is not a lot of contrast between the lowest and highest pixels.\n",
    "#### (c) Recall, we derived in lecture that the cumulative distribution function (CDF) of the histogram is the theoretic optimal histogram-equalization transformation function. Plot the CDF of your histogram. Is this an appropriate equalization function? Why or why not?"
   ]
  },
  {
   "cell_type": "code",
   "execution_count": null,
   "id": "2d372692",
   "metadata": {},
   "outputs": [],
   "source": [
    "# calculae the cdf\n",
    "cdf = histogram.cumsum()\n",
    "# normalize the values to 0-255\n",
    "cdf_normalized = cdf * 255/ cdf[-1]\n",
    "# plot the CDF of the histogram\n",
    "plt.figure()\n",
    "plt.title('Cumulative Distribution Function')\n",
    "plt.plot(range(256),cdf_normalized);"
   ]
  },
  {
   "cell_type": "markdown",
   "id": "7469a649",
   "metadata": {},
   "source": [
    "This might be a an appropriate function to normalize the image as it would compress the low values and boost the high values on the low and high ends of the histogram.\n",
    "#### (d) Apply the CDF as a transformation function to your image1. Display your transformed image and its histogram. Has your image's histogram been equalized? Comment on the your original image and histogram vs. the transformed image and histogram."
   ]
  },
  {
   "cell_type": "code",
   "execution_count": null,
   "id": "4dc79709",
   "metadata": {},
   "outputs": [],
   "source": [
    "# replace the values with the normalized cdf values\n",
    "image_low_cntrst_trnsfrmd = cdf_normalized[image_low_cntrst]\n",
    "# display the image after transformation\n",
    "show_image(image_low_cntrst_trnsfrmd, 'Transformed Image', 'gray')\n",
    "# plot the transformed image histogram\n",
    "histogram, bins = np.histogram(image_low_cntrst_trnsfrmd.flatten(),256,[0,256])\n",
    "plt.figure()\n",
    "plt.title('Histogram of the Transformed Image')\n",
    "plt.hist(image_low_cntrst_trnsfrmd.ravel(),256,[0,256]);"
   ]
  },
  {
   "cell_type": "markdown",
   "id": "cb593695",
   "metadata": {},
   "source": [
    "The transformed image has a larger contrast but the whites appear to be excessively blown out. The transformed image has a much wider spectrum of values as compared to the original image. The histogram may not be entirely flat, but it is noticeably more spread out than before the transformation took place."
   ]
  }
 ],
 "metadata": {
  "kernelspec": {
   "display_name": "Python [conda env:ImV]",
   "language": "python",
   "name": "conda-env-ImV-py"
  },
  "language_info": {
   "codemirror_mode": {
    "name": "ipython",
    "version": 3
   },
   "file_extension": ".py",
   "mimetype": "text/x-python",
   "name": "python",
   "nbconvert_exporter": "python",
   "pygments_lexer": "ipython3",
   "version": "3.8.15"
  }
 },
 "nbformat": 4,
 "nbformat_minor": 5
}
