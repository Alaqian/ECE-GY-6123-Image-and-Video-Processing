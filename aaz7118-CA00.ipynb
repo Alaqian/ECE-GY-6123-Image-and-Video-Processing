{
 "cells": [
  {
   "cell_type": "markdown",
   "id": "4f55173d-ab6d-4cc6-bf38-7041a6e7c17b",
   "metadata": {},
   "source": [
    "# Computer Assignment 3: Pyramid Transforms\n",
    "## Alaqian Zafar - aaz7118\n",
    "\n",
    "## Table of Contents\n",
    "- <a href='#p1'>**Problem 1** ()</a>\n",
    "    - <a href='#p1a'>**Problem 1** (a)</a>\n",
    "    - <a href='#p1b'>**Problem 1** (b)</a>\n",
    "    - <a href='#p1c'>**Problem 1** (c)</a>\n",
    "    - <a href='#p1d'>**Problem 1** (d)</a>\n",
    "- <a href='#p2'>**Problem 2** ()</a>\n",
    "    - <a href='#p2a'>**Problem 2** (a)</a>\n",
    "    - <a href='#p2b'>**Problem 2** (b)</a>\n",
    "    - <a href='#p2c'>**Problem 2** (c)</a>\n",
    "    - <a href='#p2d'>**Problem 2** (d)</a>"
   ]
  },
  {
   "cell_type": "markdown",
   "id": "5f60f906-b162-4795-8ce8-076c1e58f136",
   "metadata": {},
   "source": [
    "<a id='p1'></a>"
   ]
  },
  {
   "cell_type": "markdown",
   "id": "cdd71cc3-68b0-4339-82ed-5f7a15a29902",
   "metadata": {},
   "source": [
    "## **Problem 1** ().\n",
    "\n",
    "<a id='p1a'></a>\n",
    "### (a)\n",
    "\n",
    "[Table of Contents](#Table-of-Contents)"
   ]
  },
  {
   "cell_type": "markdown",
   "id": "33284490-af37-49c1-a5bd-c7d48472fcfc",
   "metadata": {
    "tags": []
   },
   "source": [
    "<a id='p1b'></a>\n",
    "### (b)\n",
    "\n",
    "\n",
    "[Table of Contents](#Table-of-Contents)"
   ]
  },
  {
   "cell_type": "markdown",
   "id": "b1d3219f-8a19-461e-8147-acdc6e77deda",
   "metadata": {
    "tags": []
   },
   "source": [
    "<a id='p1c'></a>\n",
    "### (c)\n",
    "\n",
    "[Table of Contents](#Table-of-Contents)"
   ]
  },
  {
   "cell_type": "markdown",
   "id": "6e1f0531-2aa0-4daf-9f8a-9315f9257e79",
   "metadata": {},
   "source": [
    "<a id='p1d'></a>\n",
    "### (d)\n",
    "\n",
    "[Table of Contents](#Table-of-Contents)"
   ]
  },
  {
   "cell_type": "markdown",
   "id": "2a5531fe-1a17-4ef4-91c9-82eacd21031e",
   "metadata": {},
   "source": [
    "<a id='p2'></a>"
   ]
  },
  {
   "cell_type": "markdown",
   "id": "f2b0e596-7345-4eaa-8e9d-de9801d5b8fa",
   "metadata": {},
   "source": [
    "## **Problem 2** ().\n",
    "\n",
    "<a id='p2a'></a>\n",
    "### (a)\n",
    "\n",
    "[Table of Contents](#Table-of-Contents)"
   ]
  },
  {
   "cell_type": "markdown",
   "id": "88d56e64-544c-439f-a474-6b24f5e2d93f",
   "metadata": {
    "tags": []
   },
   "source": [
    "<a id='p2b'></a>\n",
    "### (b)\n",
    "\n",
    "[Table of Contents](#Table-of-Contents)"
   ]
  },
  {
   "cell_type": "markdown",
   "id": "e3de73fb-1143-4c0f-acbe-642cbdfb0b96",
   "metadata": {
    "tags": []
   },
   "source": [
    "<a id='p2c'></a>\n",
    "### (c)\n",
    "\n",
    "[Table of Contents](#Table-of-Contents)"
   ]
  },
  {
   "cell_type": "markdown",
   "id": "0a75491e-d6cc-4069-90f7-ee38831639c6",
   "metadata": {},
   "source": [
    "<a id='p2d'></a>\n",
    "### (d)\n",
    "\n",
    "[Table of Contents](#Table-of-Contents)"
   ]
  }
 ],
 "metadata": {
  "kernelspec": {
   "display_name": "Python [conda env:miniconda3-ImV] *",
   "language": "python",
   "name": "conda-env-miniconda3-ImV-py"
  },
  "language_info": {
   "codemirror_mode": {
    "name": "ipython",
    "version": 3
   },
   "file_extension": ".py",
   "mimetype": "text/x-python",
   "name": "python",
   "nbconvert_exporter": "python",
   "pygments_lexer": "ipython3",
   "version": "3.8.15"
  }
 },
 "nbformat": 4,
 "nbformat_minor": 5
}
