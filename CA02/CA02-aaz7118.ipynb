{
 "cells": [
  {
   "cell_type": "markdown",
   "id": "ef9115cf-1c05-4c47-9cac-ea46cb7bdb1e",
   "metadata": {},
   "source": [
    "# Computer Assignment 2: 2D Convolution and Image Noise Removal\n",
    "## Alaqian Zafar - aaz7118\n",
    "### **Problem 1** (Implementing 2D convolution in Python)\n",
    "a) Write 2D convolution function conv2, which implements \"same\"-padding convolution. For simplicity, you can assume the filter has an odd length in both vertical and horizontal directions. The input image should be grayscale. Assume pixel values outside the image are zero."
   ]
  },
  {
   "cell_type": "code",
   "execution_count": null,
   "id": "bbe8cbee-7fd5-4259-afb4-48fb6bf10bc9",
   "metadata": {},
   "outputs": [],
   "source": []
  }
 ],
 "metadata": {
  "kernelspec": {
   "display_name": "Python [conda env:ImV]",
   "language": "python",
   "name": "conda-env-ImV-py"
  },
  "language_info": {
   "codemirror_mode": {
    "name": "ipython",
    "version": 3
   },
   "file_extension": ".py",
   "mimetype": "text/x-python",
   "name": "python",
   "nbconvert_exporter": "python",
   "pygments_lexer": "ipython3",
   "version": "3.8.15"
  }
 },
 "nbformat": 4,
 "nbformat_minor": 5
}
