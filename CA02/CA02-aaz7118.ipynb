{
 "cells": [
  {
   "cell_type": "markdown",
   "id": "ef9115cf-1c05-4c47-9cac-ea46cb7bdb1e",
   "metadata": {},
   "source": [
    "# Computer Assignment 2: 2D Convolution and Image Noise Removal\n",
    "## Alaqian Zafar - aaz7118"
   ]
  },
  {
   "cell_type": "code",
   "execution_count": 133,
   "id": "bbe8cbee-7fd5-4259-afb4-48fb6bf10bc9",
   "metadata": {},
   "outputs": [],
   "source": [
    "import numpy as np\n",
    "import matplotlib.pyplot as plt"
   ]
  },
  {
   "cell_type": "markdown",
   "id": "9adee466-e31e-4b5d-87c3-2d8e9dc52248",
   "metadata": {},
   "source": [
    "### **Problem 1** (Implementing 2D convolution in Python)\n",
    "#### (a) Write 2D convolution function `conv2`, which implements \"same\"-padding convolution. For simplicity, you can assume the filter has an odd length in both vertical and horizontal directions. The input image should be grayscale. Assume pixel values outside the image are zero."
   ]
  },
  {
   "cell_type": "code",
   "execution_count": 132,
   "id": "5221f363-472d-4319-a447-85558e531c39",
   "metadata": {},
   "outputs": [],
   "source": [
    "def conv2(image, filtr):\n",
    "    result = np.empty([image.size]) # initialize result matrix\n",
    "    pad_thick = int((len(filtr) - 1)/2) # padding thickness assuming square filter of odd legnth\n",
    "    image = np.pad(image, pad_thick) # pad the image with zeros\n",
    "    filtr = np.flip(filtr) # flip the filter\n",
    "    for m in range(result.size[0]):\n",
    "        for n in range(result.size[1]):\n",
    "            result[m,n] = np.sum(np.multiply(image[m:m+pad_thick,n:n_pad_thick],filter))\n",
    "    return result"
   ]
  },
  {
   "cell_type": "markdown",
   "id": "ef89d3b5-7078-4231-a700-96636267f37d",
   "metadata": {},
   "source": [
    "#### (b) Write a function `plot filtering` that uses your conv2 function to filter a given input image with a given input filter and plots the following:\n",
    "- The original input image and filtered image\n",
    "- The log-magnitude spectrum of the original image, filter, and output image.\n",
    "\n",
    "#### Use a grayscale colormap and a colorbar for each plot. For your filter-response, use an FFT size equal to the size of your image."
   ]
  },
  {
   "cell_type": "code",
   "execution_count": null,
   "id": "f23de86a-e0d0-4146-8fe5-20818ff8b61c",
   "metadata": {},
   "outputs": [],
   "source": [
    "def plot_image(image, title):\n",
    "    plt.figure()\n",
    "    plt.imshow(image, cmap='gray')\n",
    "    plt.title(title)\n",
    "    plt.axis('off')\n",
    "    plt.colorbar()\n",
    "\n",
    "def plot_filtering(image, filtr):\n",
    "    plot_image("
   ]
  }
 ],
 "metadata": {
  "kernelspec": {
   "display_name": "Python [conda env:ImV]",
   "language": "python",
   "name": "conda-env-ImV-py"
  },
  "language_info": {
   "codemirror_mode": {
    "name": "ipython",
    "version": 3
   },
   "file_extension": ".py",
   "mimetype": "text/x-python",
   "name": "python",
   "nbconvert_exporter": "python",
   "pygments_lexer": "ipython3",
   "version": "3.8.15"
  }
 },
 "nbformat": 4,
 "nbformat_minor": 5
}
