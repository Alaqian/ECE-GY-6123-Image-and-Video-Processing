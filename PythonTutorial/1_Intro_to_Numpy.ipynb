{
 "cells": [
  {
   "cell_type": "markdown",
   "metadata": {
    "id": "QwTMLH0Bhyf_"
   },
   "source": [
    "# Numpy Tutorial"
   ]
  },
  {
   "cell_type": "code",
   "execution_count": 1,
   "metadata": {
    "execution": {
     "iopub.execute_input": "2023-03-26T04:40:47.615519Z",
     "iopub.status.busy": "2023-03-26T04:40:47.614039Z",
     "iopub.status.idle": "2023-03-26T04:40:47.755833Z",
     "shell.execute_reply": "2023-03-26T04:40:47.755833Z",
     "shell.execute_reply.started": "2023-03-26T04:40:47.615519Z"
    },
    "id": "kw0BxWFThygB"
   },
   "outputs": [],
   "source": [
    "import numpy as np"
   ]
  },
  {
   "cell_type": "markdown",
   "metadata": {
    "id": "XRsLIryshygB"
   },
   "source": [
    "Numpy is a library for computations of multi-dimensional arrays. It comes with a large collection of functions for mathematical operations on these arrays.\n",
    "\n",
    "In the above, we have \"import numpy as np\", which means that we have imported the numpy library and set \"np\" as the abbreviation for calling numpy."
   ]
  },
  {
   "cell_type": "code",
   "execution_count": 2,
   "metadata": {
    "execution": {
     "iopub.execute_input": "2023-03-26T04:40:47.758586Z",
     "iopub.status.busy": "2023-03-26T04:40:47.758586Z",
     "iopub.status.idle": "2023-03-26T04:40:47.771125Z",
     "shell.execute_reply": "2023-03-26T04:40:47.771125Z",
     "shell.execute_reply.started": "2023-03-26T04:40:47.758586Z"
    },
    "id": "ImBwsBxBhygC",
    "outputId": "43e66083-2cf2-4417-ff4f-00b26d802edf"
   },
   "outputs": [
    {
     "name": "stdout",
     "output_type": "stream",
     "text": [
      "6\n"
     ]
    }
   ],
   "source": [
    "## Define single value numerical variables in Python\n",
    "a = 1\n",
    "b = 5\n",
    "c = a + b\n",
    "print(c)"
   ]
  },
  {
   "cell_type": "code",
   "execution_count": 3,
   "metadata": {
    "execution": {
     "iopub.execute_input": "2023-03-26T04:40:47.772123Z",
     "iopub.status.busy": "2023-03-26T04:40:47.772123Z",
     "iopub.status.idle": "2023-03-26T04:40:47.787610Z",
     "shell.execute_reply": "2023-03-26T04:40:47.786620Z",
     "shell.execute_reply.started": "2023-03-26T04:40:47.772123Z"
    },
    "id": "7ivMPfushygC",
    "outputId": "6e21c690-1bb8-47fc-d68c-0d100eec49f7"
   },
   "outputs": [
    {
     "name": "stdout",
     "output_type": "stream",
     "text": [
      "C:  [2, 3, 3, 5]\n",
      "<class 'list'>\n"
     ]
    }
   ],
   "source": [
    "# You can put these numbers into lists\n",
    "A = [2,3]\n",
    "B = [3,5]\n",
    "\n",
    "# However, lists do not allow for mathematical operations\n",
    "C = A + B    # For example, + operator on two lists is concatenation, not elementwise addition\n",
    "print('C: ', C)\n",
    "print(type(C))"
   ]
  },
  {
   "cell_type": "markdown",
   "metadata": {
    "id": "5USb8wwIhygD"
   },
   "source": [
    "### Numpy Array\n",
    "- Numpy library enable us to perform mathematical operations on arrays"
   ]
  },
  {
   "cell_type": "code",
   "execution_count": 4,
   "metadata": {
    "execution": {
     "iopub.execute_input": "2023-03-26T04:40:47.788611Z",
     "iopub.status.busy": "2023-03-26T04:40:47.788611Z",
     "iopub.status.idle": "2023-03-26T04:40:47.803122Z",
     "shell.execute_reply": "2023-03-26T04:40:47.802123Z",
     "shell.execute_reply.started": "2023-03-26T04:40:47.788611Z"
    },
    "id": "T7Gv9DtHhygD",
    "outputId": "1c6c2287-b6d5-4861-ec3a-3a22d63146cd",
    "tags": []
   },
   "outputs": [
    {
     "name": "stdout",
     "output_type": "stream",
     "text": [
      "A:  [2 3]\n",
      "B:  [3 5]\n",
      "C:  [5 8]\n",
      "<class 'numpy.ndarray'>\n",
      "(2,)\n"
     ]
    }
   ],
   "source": [
    "# np.array() converts list into numpy array\n",
    "A = np.array(A)\n",
    "print('A: ', A)\n",
    "B = np.array(B)\n",
    "print('B: ', B)\n",
    "C = A + B\n",
    "print('C: ', C)\n",
    "print(type(C))\n",
    "print(C.shape)   # C is a 2-dim vector"
   ]
  },
  {
   "cell_type": "code",
   "execution_count": 5,
   "metadata": {
    "execution": {
     "iopub.execute_input": "2023-03-26T04:40:47.804122Z",
     "iopub.status.busy": "2023-03-26T04:40:47.804122Z",
     "iopub.status.idle": "2023-03-26T04:40:47.818846Z",
     "shell.execute_reply": "2023-03-26T04:40:47.817929Z",
     "shell.execute_reply.started": "2023-03-26T04:40:47.804122Z"
    },
    "id": "4ReodqFzhygE",
    "outputId": "0acc5957-c2ec-4aed-c2e1-e4df7bf7cb24",
    "tags": []
   },
   "outputs": [
    {
     "name": "stdout",
     "output_type": "stream",
     "text": [
      "[2 3 3 5]\n",
      "[[2 3]\n",
      " [3 5]]\n"
     ]
    }
   ],
   "source": [
    "# How to concatenate\n",
    "temp = np.concatenate([A,B], axis=0)\n",
    "print (temp)\n",
    "temp = np.concatenate([[A],[B]], axis=0)\n",
    "print (temp)\n"
   ]
  },
  {
   "cell_type": "code",
   "execution_count": 6,
   "metadata": {
    "execution": {
     "iopub.execute_input": "2023-03-26T04:40:47.820844Z",
     "iopub.status.busy": "2023-03-26T04:40:47.819842Z",
     "iopub.status.idle": "2023-03-26T04:40:47.833842Z",
     "shell.execute_reply": "2023-03-26T04:40:47.832841Z",
     "shell.execute_reply.started": "2023-03-26T04:40:47.819842Z"
    },
    "id": "O5sNsaKChygE",
    "outputId": "ceae5d37-78e7-4d11-8524-acb10e90aecd",
    "tags": []
   },
   "outputs": [
    {
     "name": "stdout",
     "output_type": "stream",
     "text": [
      "D: \n",
      " [[1 2]\n",
      " [3 4]]\n",
      "D.shape:  (2, 2)\n",
      "E: \n",
      " [[-0.66825746]\n",
      " [-0.39863851]]\n",
      "D*E: \n",
      " [[-0.66825746 -1.33651492]\n",
      " [-1.19591553 -1.59455404]]\n",
      "np.matmul(D,E): \n",
      " [[-1.46553448]\n",
      " [-3.59932642]]\n"
     ]
    }
   ],
   "source": [
    "D = np.array([[1,2],[3,4]])\n",
    "print('D: \\n', D)\n",
    "print('D.shape: ', D.shape)   ## D is a 2x2 matrix\n",
    "E = np.random.randn(2,1)    # Creates a 2x1 matrix with gaussian random elements\n",
    "print('E: \\n', E)\n",
    "\n",
    "print('D*E: \\n', D*E)   \n",
    "# Note that this is not a standard matrix multiplication, but an elementwise multiplication\n",
    "# np broadcasts E to fit size of D and perform elementwise multiplication\n",
    "\n",
    "# Matrix multiplication\n",
    "print('np.matmul(D,E): \\n', np.matmul(D,E)) "
   ]
  },
  {
   "cell_type": "code",
   "execution_count": 7,
   "metadata": {
    "execution": {
     "iopub.execute_input": "2023-03-26T04:40:47.837843Z",
     "iopub.status.busy": "2023-03-26T04:40:47.837843Z",
     "iopub.status.idle": "2023-03-26T04:40:47.849145Z",
     "shell.execute_reply": "2023-03-26T04:40:47.848148Z",
     "shell.execute_reply.started": "2023-03-26T04:40:47.837843Z"
    },
    "tags": []
   },
   "outputs": [
    {
     "name": "stdout",
     "output_type": "stream",
     "text": [
      "[[1 1]\n",
      " [1 1]]\n",
      "[[ 1  1]\n",
      " [-1 -1]]\n",
      "[[ 1 -1]\n",
      " [ 1 -1]]\n",
      "[[ 1 -1]\n",
      " [-1  1]]\n",
      "[[2]]\n"
     ]
    }
   ],
   "source": [
    "A = np.array([[1], [1]])\n",
    "B = np.array([[1], [-1]])\n",
    "print(A@A.T)\n",
    "print(B@A.T)\n",
    "print(A@B.T)\n",
    "print(B@B.T)\n",
    "\n",
    "print(A.T@A)"
   ]
  },
  {
   "cell_type": "markdown",
   "metadata": {
    "id": "_rLIiWuNhygE"
   },
   "source": [
    "### Array indexing and reshaping"
   ]
  },
  {
   "cell_type": "code",
   "execution_count": 8,
   "metadata": {
    "execution": {
     "iopub.execute_input": "2023-03-26T04:40:47.851145Z",
     "iopub.status.busy": "2023-03-26T04:40:47.851145Z",
     "iopub.status.idle": "2023-03-26T04:40:47.863615Z",
     "shell.execute_reply": "2023-03-26T04:40:47.863615Z",
     "shell.execute_reply.started": "2023-03-26T04:40:47.851145Z"
    },
    "id": "FOvd8jfdhygF",
    "outputId": "ef86faac-6459-4799-8a82-c2691048fc21"
   },
   "outputs": [
    {
     "name": "stdout",
     "output_type": "stream",
     "text": [
      "H: \n",
      "[[1 9 0 4 7]\n",
      " [5 0 8 4 6]\n",
      " [9 1 3 3 1]\n",
      " [3 1 9 6 9]\n",
      " [4 9 9 0 8]]\n",
      "H[0,0]: 1\n",
      "H[1,2]: 8\n",
      "H[-1,-1]: 8\n"
     ]
    }
   ],
   "source": [
    "# Index for np array starts at 0 \n",
    "# For a 2D array, the first index is for row, second index is for column\n",
    "H = np.random.randint(0,10,(5,5))\n",
    "print('H: ')\n",
    "print(H)\n",
    "print('H[0,0]:', H[0,0])    # Element in row 0, column 0\n",
    "print('H[1,2]:', H[1,2])    # Element in row 1, column 2\n",
    "print('H[-1,-1]:', H[-1,-1])   # Element in last row, last column"
   ]
  },
  {
   "cell_type": "code",
   "execution_count": 9,
   "metadata": {
    "execution": {
     "iopub.execute_input": "2023-03-26T04:40:47.865573Z",
     "iopub.status.busy": "2023-03-26T04:40:47.864573Z",
     "iopub.status.idle": "2023-03-26T04:40:47.880081Z",
     "shell.execute_reply": "2023-03-26T04:40:47.879082Z",
     "shell.execute_reply.started": "2023-03-26T04:40:47.865573Z"
    },
    "id": "TIeH_Z3QhygF",
    "outputId": "52dd8fd5-28c3-40c6-b70e-f14ea1d90290"
   },
   "outputs": [
    {
     "name": "stdout",
     "output_type": "stream",
     "text": [
      "r:  [9 0]\n",
      "(2,)\n"
     ]
    }
   ],
   "source": [
    "# Use a:b to extract elements from a to b-1\n",
    "r = H[0,1:3]   ## Extract the row index 0, col index 1,2\n",
    "print('r: ', r)\n",
    "print(r.shape)"
   ]
  },
  {
   "cell_type": "code",
   "execution_count": 10,
   "metadata": {
    "execution": {
     "iopub.execute_input": "2023-03-26T04:40:47.881087Z",
     "iopub.status.busy": "2023-03-26T04:40:47.881087Z",
     "iopub.status.idle": "2023-03-26T04:40:47.895591Z",
     "shell.execute_reply": "2023-03-26T04:40:47.895086Z",
     "shell.execute_reply.started": "2023-03-26T04:40:47.881087Z"
    },
    "id": "ytegIgjzhygF",
    "outputId": "38121c92-7766-4bf5-ac2c-28c45e957a4b"
   },
   "outputs": [
    {
     "name": "stdout",
     "output_type": "stream",
     "text": [
      "r:  [9 1 3 3 1]\n",
      "(5,)\n",
      "[[9 1 3 3 1]]\n",
      "(1, 5)\n"
     ]
    }
   ],
   "source": [
    "r = H[2,:]   ## Extract the entire row 3 of H\n",
    "print('r: ', r)\n",
    "print(r.shape)\n",
    "## Note that the extracted row is not a (1,5) array (has 2 dimensions) but a (5,) array (only 1 dimension)\n",
    "## Be aware of this change in shape when indexing\n",
    "\n",
    "## You can reshape r to (1,5)\n",
    "r = r.reshape(1,5)\n",
    "print(r)\n",
    "print(r.shape)"
   ]
  },
  {
   "cell_type": "markdown",
   "metadata": {
    "id": "5VNXv89ihygG"
   },
   "source": [
    "### Some useful numpy functions"
   ]
  },
  {
   "cell_type": "code",
   "execution_count": 11,
   "metadata": {
    "execution": {
     "iopub.execute_input": "2023-03-26T04:40:47.897653Z",
     "iopub.status.busy": "2023-03-26T04:40:47.897653Z",
     "iopub.status.idle": "2023-03-26T04:40:47.911657Z",
     "shell.execute_reply": "2023-03-26T04:40:47.910244Z",
     "shell.execute_reply.started": "2023-03-26T04:40:47.897653Z"
    },
    "id": "KTsRTkpMhygG",
    "outputId": "a4977b23-8116-4cfd-954d-e8295ac9ecd3",
    "tags": []
   },
   "outputs": [
    {
     "name": "stdout",
     "output_type": "stream",
     "text": [
      "18\n",
      "4.76\n",
      "[4.4 4.  5.8 3.4 6.2]\n",
      "[[ 0.24766585  1.16019656 -0.22800983 -0.82457002 -0.13071253]\n",
      " [-0.26388206 -1.46830467  0.43341523  0.93808354  0.22260442]\n",
      " [-0.45945946 -1.72972973  0.48648649  1.21621622  0.27027027]\n",
      " [-0.42555283 -2.26732187  0.69336609  1.61523342  0.16904177]\n",
      " [ 0.68992629  3.01769042 -0.92088452 -2.01130221 -0.36412776]]\n",
      "[[1 5 9 3 4]\n",
      " [9 0 1 1 9]\n",
      " [0 8 3 9 9]\n",
      " [4 4 3 6 0]\n",
      " [7 6 1 9 8]]\n"
     ]
    }
   ],
   "source": [
    "print(np.trace(H))   # Calculate the trace (sum of diagonal elements)\n",
    "print(np.mean(H))    # Calculate the arithmetic mean of all elements in H\n",
    "print(np.mean(H, axis = 0))   # Calculate the mean across the axis 0\n",
    "print(np.linalg.inv(H))    # Find the inverse matrix\n",
    "print(np.transpose(H))     # Take the transpose of the matrix"
   ]
  },
  {
   "cell_type": "code",
   "execution_count": 12,
   "metadata": {
    "execution": {
     "iopub.execute_input": "2023-03-26T04:40:47.913668Z",
     "iopub.status.busy": "2023-03-26T04:40:47.912670Z",
     "iopub.status.idle": "2023-03-26T04:40:47.943927Z",
     "shell.execute_reply": "2023-03-26T04:40:47.941488Z",
     "shell.execute_reply.started": "2023-03-26T04:40:47.912670Z"
    },
    "id": "n-Qmb9A-hygG",
    "outputId": "7ba2a19c-690b-463f-b774-9ee99df88223",
    "tags": []
   },
   "outputs": [
    {
     "data": {
      "text/plain": [
       "array([[ 1.00000000e+00,  0.00000000e+00,  0.00000000e+00,\n",
       "         1.33226763e-15, -2.22044605e-16],\n",
       "       [ 4.44089210e-16,  1.00000000e+00,  0.00000000e+00,\n",
       "         8.88178420e-16, -4.44089210e-16],\n",
       "       [ 3.33066907e-16,  4.44089210e-16,  1.00000000e+00,\n",
       "         4.44089210e-16,  0.00000000e+00],\n",
       "       [ 1.11022302e-15,  7.10542736e-15, -1.77635684e-15,\n",
       "         1.00000000e+00, -6.66133815e-16],\n",
       "       [ 0.00000000e+00,  3.55271368e-15,  0.00000000e+00,\n",
       "         0.00000000e+00,  1.00000000e+00]])"
      ]
     },
     "execution_count": 12,
     "metadata": {},
     "output_type": "execute_result"
    }
   ],
   "source": [
    "np.matmul(H, np.linalg.inv(H))"
   ]
  },
  {
   "cell_type": "code",
   "execution_count": 13,
   "metadata": {
    "execution": {
     "iopub.execute_input": "2023-03-26T04:40:47.945935Z",
     "iopub.status.busy": "2023-03-26T04:40:47.944934Z",
     "iopub.status.idle": "2023-03-26T04:40:47.957944Z",
     "shell.execute_reply": "2023-03-26T04:40:47.956936Z",
     "shell.execute_reply.started": "2023-03-26T04:40:47.945935Z"
    },
    "tags": []
   },
   "outputs": [
    {
     "data": {
      "text/plain": [
       "array([[0, 0, 0, 0, 0],\n",
       "       [0, 1, 0, 0, 0],\n",
       "       [0, 0, 0, 0, 0],\n",
       "       [0, 0, 0, 0, 0],\n",
       "       [0, 0, 0, 0, 1]])"
      ]
     },
     "execution_count": 13,
     "metadata": {},
     "output_type": "execute_result"
    }
   ],
   "source": [
    "np.matmul(H, np.linalg.inv(H)).astype('int')"
   ]
  },
  {
   "cell_type": "markdown",
   "metadata": {
    "id": "5EIJRZCLhygH"
   },
   "source": [
    "### Fancy Index"
   ]
  },
  {
   "cell_type": "code",
   "execution_count": 14,
   "metadata": {
    "execution": {
     "iopub.execute_input": "2023-03-26T04:40:47.960934Z",
     "iopub.status.busy": "2023-03-26T04:40:47.960934Z",
     "iopub.status.idle": "2023-03-26T04:40:47.972077Z",
     "shell.execute_reply": "2023-03-26T04:40:47.972077Z",
     "shell.execute_reply.started": "2023-03-26T04:40:47.960934Z"
    },
    "id": "Co2gRaaihygH",
    "outputId": "ae1fb069-a3b8-4bf7-b6ae-40742ba9fef4"
   },
   "outputs": [
    {
     "name": "stdout",
     "output_type": "stream",
     "text": [
      "[9 5 0 7 2 8 4 3 6 1]\n"
     ]
    }
   ],
   "source": [
    "mapping = np.random.permutation(10)\n",
    "print (mapping)"
   ]
  },
  {
   "cell_type": "code",
   "execution_count": 15,
   "metadata": {
    "execution": {
     "iopub.execute_input": "2023-03-26T04:40:47.974200Z",
     "iopub.status.busy": "2023-03-26T04:40:47.974200Z",
     "iopub.status.idle": "2023-03-26T04:40:47.990253Z",
     "shell.execute_reply": "2023-03-26T04:40:47.989243Z",
     "shell.execute_reply.started": "2023-03-26T04:40:47.974200Z"
    },
    "id": "WOiBZAslhygH",
    "outputId": "a484a682-231b-4ec5-85f8-3b03e7706068"
   },
   "outputs": [
    {
     "name": "stdout",
     "output_type": "stream",
     "text": [
      "[[0 7 0]\n",
      " [1 4 7]\n",
      " [4 3 1]]\n"
     ]
    }
   ],
   "source": [
    "mat = np.random.randint(0,10,(3,3))\n",
    "print (mat)"
   ]
  },
  {
   "cell_type": "code",
   "execution_count": 16,
   "metadata": {
    "execution": {
     "iopub.execute_input": "2023-03-26T04:40:47.992251Z",
     "iopub.status.busy": "2023-03-26T04:40:47.992251Z",
     "iopub.status.idle": "2023-03-26T04:40:48.006911Z",
     "shell.execute_reply": "2023-03-26T04:40:48.005901Z",
     "shell.execute_reply.started": "2023-03-26T04:40:47.992251Z"
    },
    "id": "XlXsUjs-hygH",
    "outputId": "d74a6e9d-4ee2-4ba8-9cfd-763de01c34a1"
   },
   "outputs": [
    {
     "data": {
      "text/plain": [
       "array([[9, 3, 9],\n",
       "       [5, 2, 3],\n",
       "       [2, 7, 5]])"
      ]
     },
     "execution_count": 16,
     "metadata": {},
     "output_type": "execute_result"
    }
   ],
   "source": [
    "mapping[mat]"
   ]
  },
  {
   "cell_type": "code",
   "execution_count": null,
   "metadata": {
    "id": "UWPuyPWOhygI"
   },
   "outputs": [],
   "source": []
  }
 ],
 "metadata": {
  "colab": {
   "name": "1_Intro_to_Numpy.ipynb",
   "provenance": []
  },
  "kernelspec": {
   "display_name": "Python 3 (ipykernel)",
   "language": "python",
   "name": "python3"
  },
  "language_info": {
   "codemirror_mode": {
    "name": "ipython",
    "version": 3
   },
   "file_extension": ".py",
   "mimetype": "text/x-python",
   "name": "python",
   "nbconvert_exporter": "python",
   "pygments_lexer": "ipython3",
   "version": "3.8.15"
  }
 },
 "nbformat": 4,
 "nbformat_minor": 4
}
